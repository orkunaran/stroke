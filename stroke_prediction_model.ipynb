{
  "cells": [
    {
      "cell_type": "markdown",
      "metadata": {
        "id": "BRP6XH5ERZfg"
      },
      "source": [
        "#### Importing packages "
      ]
    },
    {
      "cell_type": "code",
      "execution_count": null,
      "metadata": {
        "id": "E5yf3eEBRZfh"
      },
      "outputs": [],
      "source": [
        "\n",
        "\n",
        "import pandas as pd\n",
        "import seaborn as sns\n",
        "import matplotlib.pyplot as plt\n",
        "%matplotlib inline\n",
        "import plotly.express as px\n",
        "import numpy as np\n",
        "from scipy import stats\n",
        "\n",
        "pd.set_option('display.max_columns', 60)\n",
        "\n",
        "\n",
        "import warnings\n",
        "warnings.filterwarnings(\"ignore\")\n",
        "\n",
        "from sklearn.impute import KNNImputer\n",
        "from sklearn.preprocessing import LabelEncoder, StandardScaler, OrdinalEncoder\n",
        "\n",
        "# metrics\n",
        "from sklearn.metrics import accuracy_score, classification_report, auc, make_scorer\n",
        "from sklearn.metrics import confusion_matrix, recall_score \n",
        "from sklearn.metrics import f1_score, precision_score, roc_curve, precision_recall_curve, roc_auc_score\n",
        "\n",
        "# folds\n",
        "from sklearn.model_selection import StratifiedKFold, cross_val_score, train_test_split\n",
        "\n",
        "#ml models\n",
        "# dummy classifier\n",
        "from sklearn.dummy import DummyClassifier\n",
        "#other classifiers\n",
        "from xgboost import XGBClassifier\n",
        "from sklearn.tree import DecisionTreeClassifier\n",
        "from sklearn.ensemble import RandomForestClassifier\n",
        "from sklearn.ensemble import GradientBoostingClassifier\n",
        "from sklearn.ensemble import AdaBoostClassifier\n",
        "from sklearn.svm import SVC"
      ]
    },
    {
      "cell_type": "code",
      "execution_count": null,
      "metadata": {
        "id": "_BkdV2IFRZfu"
      },
      "outputs": [],
      "source": [
        "# Read the csv file\n",
        "url = \"https://raw.githubusercontent.com/orkunaran/Stroke-Prediction/main/healthcare-dataset-stroke-data.csv\"\n",
        "df = pd.read_csv(url)"
      ]
    },
    {
      "cell_type": "code",
      "execution_count": null,
      "metadata": {
        "id": "9j2wVu3C4Rv_"
      },
      "outputs": [],
      "source": [
        "#spare a validation dataset\n",
        "X_train, X_val, y_train, y_val = train_test_split(\n",
        "    df.drop('stroke',axis=1),\n",
        "    df.stroke,\n",
        "    test_size = 0.1, \n",
        "    stratify = df.stroke.values,\n",
        "    random_state= 42\n",
        "    )"
      ]
    },
    {
      "cell_type": "code",
      "execution_count": null,
      "metadata": {
        "id": "WzFfw12J4pRQ"
      },
      "outputs": [],
      "source": [
        "df_train = X_train.copy(deep = True)\n",
        "df_train['stroke'] = y_train"
      ]
    },
    {
      "cell_type": "code",
      "source": [
        "df_train.info()\n",
        "df_train['hypertension'] = df_train['hypertension'].astype('object')\n",
        "df_train['heart_disease'] = df_train['heart_disease'].astype('object')"
      ],
      "metadata": {
        "colab": {
          "base_uri": "https://localhost:8080/"
        },
        "id": "43Llxmj9nNnJ",
        "outputId": "eb0815d0-5041-4bac-d2d3-21f941d127b6"
      },
      "execution_count": null,
      "outputs": [
        {
          "output_type": "stream",
          "name": "stdout",
          "text": [
            "<class 'pandas.core.frame.DataFrame'>\n",
            "RangeIndex: 4103 entries, 0 to 4102\n",
            "Data columns (total 12 columns):\n",
            " #   Column             Non-Null Count  Dtype  \n",
            "---  ------             --------------  -----  \n",
            " 0   gender             4103 non-null   object \n",
            " 1   age                4103 non-null   float64\n",
            " 2   hypertension       4103 non-null   int64  \n",
            " 3   heart_disease      4103 non-null   int64  \n",
            " 4   ever_married       4103 non-null   object \n",
            " 5   work_type          4103 non-null   object \n",
            " 6   Residence_type     4103 non-null   object \n",
            " 7   avg_glucose_level  4103 non-null   float64\n",
            " 8   bmi                3967 non-null   float64\n",
            " 9   smoking_status     4103 non-null   object \n",
            " 10  stroke             4103 non-null   int64  \n",
            " 11  kfold              4103 non-null   int64  \n",
            "dtypes: float64(3), int64(4), object(5)\n",
            "memory usage: 384.8+ KB\n"
          ]
        }
      ]
    },
    {
      "cell_type": "code",
      "execution_count": null,
      "metadata": {
        "id": "pxaOTlX1PbJR"
      },
      "outputs": [],
      "source": [
        "# creating folds\n",
        "df_train[\"kfold\"] = -1\n",
        "# the next step is to randomize the rows of the data\n",
        "df_train = df_train.sample(frac=1).reset_index(drop=True)\n",
        "y = df_train.stroke.values\n",
        "# initiate the kfold class from model_selection module\n",
        "kf = StratifiedKFold(n_splits=10)\n",
        "# fill the new kfold column\n",
        "for f, (t_, v_) in enumerate(kf.split(X=df_train, y=y)):\n",
        "  df_train.loc[v_, 'kfold'] = f\n",
        "\n",
        "#df.to_csv('stroke_fold.csv', index = False)\n"
      ]
    },
    {
      "cell_type": "code",
      "execution_count": null,
      "metadata": {
        "colab": {
          "base_uri": "https://localhost:8080/"
        },
        "id": "lpcmIComQpPf",
        "outputId": "52462b4c-3438-465b-cb94-556cff356fd7"
      },
      "outputs": [
        {
          "output_type": "stream",
          "name": "stdout",
          "text": [
            "0 0.36 0.23376623376623376\n",
            "1 0.46874999999999994 0.36585365853658536\n",
            "2 0.42857142857142855 0.36363636363636365\n",
            "3 0.3333333333333333 0.22580645161290322\n",
            "4 0.4262295081967213 0.3333333333333333\n",
            "5 0.288659793814433 0.18666666666666668\n",
            "6 0.31578947368421045 0.2054794520547945\n",
            "7 0.2882882882882883 0.1797752808988764\n",
            "8 0.36363636363636365 0.22727272727272727\n",
            "9 0.36697247706422015 0.23255813953488372\n"
          ]
        }
      ],
      "source": [
        "useful_features = [col for col in df_train.columns if col not in ['kfold','stroke']]\n",
        "object_cols = [col for col in df_train.select_dtypes('object').columns]\n",
        "numeric_cols = [col for col in df_train.columns if col not in object_cols and col not in ['kfold','stroke']]\n",
        "\n",
        "weight = len(df_train) / (df_train.stroke.nunique() * np.bincount(df_train.stroke.values))\n",
        "spw = weight[1] / weight[0]\n",
        "\n",
        "final_predictions = []\n",
        "for fold in range(10):\n",
        "  xtrain =  df_train[df_train.kfold != fold].reset_index(drop=True)\n",
        "  xvalid = df_train[df_train.kfold == fold].reset_index(drop=True)\n",
        "  xtest = X_val.copy()\n",
        "\n",
        "  ytrain = xtrain.stroke\n",
        "  yvalid = xvalid.stroke\n",
        "\n",
        "  xtrain = xtrain[useful_features]\n",
        "  xvalid = xvalid[useful_features]\n",
        "\n",
        "  ordinal_encoder = OrdinalEncoder(handle_unknown='use_encoded_value', unknown_value=-1)\n",
        "  xtrain[object_cols] = ordinal_encoder.fit_transform(xtrain[object_cols])\n",
        "  xvalid[object_cols] = ordinal_encoder.transform(xvalid[object_cols])\n",
        "  xtest[object_cols] = ordinal_encoder.transform(xtest[object_cols])\n",
        "\n",
        "  standart_scaler = StandardScaler()\n",
        "  xtrain[numeric_cols] = standart_scaler.fit_transform(xtrain[numeric_cols])\n",
        "  xvalid[numeric_cols] = standart_scaler.transform(xvalid[numeric_cols])\n",
        "  xtest[numeric_cols] = standart_scaler.transform(xtest[numeric_cols])\n",
        "\n",
        "  imputer = KNNImputer(n_neighbors=10)\n",
        "  xtrain = pd.DataFrame(imputer.fit_transform(xtrain), columns = xtrain.columns)\n",
        "  xvalid = pd.DataFrame(imputer.transform(xvalid), columns = xvalid.columns)\n",
        "  xtest = pd.DataFrame(imputer.transform(xtest), columns = xtest.columns)\n",
        "\n",
        "  clf = XGBClassifier(random_state=fold, n_jobs=4, scale_pos_weight = spw)\n",
        "  clf.fit(xtrain, ytrain, eval_set=[(xvalid,yvalid)],early_stopping_rounds=300,verbose=False)\n",
        "  preds_valid = clf.predict(xvalid)\n",
        "  test_preds = clf.predict(xtest)\n",
        "  final_predictions.append(test_preds)\n",
        "  print(fold, f1_score(yvalid, preds_valid), precision_score(yvalid,preds_valid))"
      ]
    },
    {
      "cell_type": "code",
      "execution_count": null,
      "metadata": {
        "id": "4w05NDiF6KoP"
      },
      "outputs": [],
      "source": [
        "finals = np.mean(np.column_stack(final_predictions), axis=1)"
      ]
    },
    {
      "cell_type": "code",
      "execution_count": null,
      "metadata": {
        "id": "tQZaLHuBWHtW"
      },
      "outputs": [],
      "source": [
        "fpr, tpr, thresholds = roc_curve(y_val,finals)\n",
        "# calculate the g-mean for each threshold\n",
        "gmeans = np.sqrt(tpr * (1-fpr))"
      ]
    },
    {
      "cell_type": "code",
      "execution_count": null,
      "metadata": {
        "colab": {
          "base_uri": "https://localhost:8080/",
          "height": 296
        },
        "id": "anrus8XuUA2n",
        "outputId": "8721439b-f083-446c-b11b-a63ae7d9658f"
      },
      "outputs": [
        {
          "output_type": "stream",
          "name": "stdout",
          "text": [
            "Best Threshold=0.100000, G-Mean=0.811\n"
          ]
        },
        {
          "output_type": "display_data",
          "data": {
            "text/plain": [
              "<Figure size 432x288 with 1 Axes>"
            ],
            "image/png": "[encoded data removed]"
          },
          "metadata": {
            "needs_background": "light"
          }
        }
      ],
      "source": [
        "# locate the index of the largest g-mean\n",
        "ix = np.argmax(gmeans)\n",
        "print('Best Threshold=%f, G-Mean=%.3f' % (thresholds[ix], gmeans[ix]))\n",
        "# plot the roc curve for the model\n",
        "plt.plot([0,1], [0,1], linestyle='--', label='No Skill')\n",
        "plt.plot(fpr, tpr, marker='.', label='XGB')\n",
        "plt.scatter(fpr[ix], tpr[ix], marker='o', color='black', label='Best')\n",
        "# axis labels\n",
        "plt.xlabel('False Positive Rate')\n",
        "plt.ylabel('True Positive Rate')\n",
        "plt.legend()\n",
        "# show the plot\n",
        "plt.show()"
      ]
    },
    {
      "cell_type": "code",
      "execution_count": null,
      "metadata": {
        "id": "3Mm7ik_sYuER"
      },
      "outputs": [],
      "source": [
        "y_pred = [1 if x >= thresholds[ix] else 0 for x in finals]\n",
        "tp, fp, tn, fn = metrics(y_val, y_pred)\n",
        "\n",
        "results = results.append({'scale_pos_weight': spw,\n",
        "                          'tp' : tp,\n",
        "                          'fp' : fp,\n",
        "                          'tn' : tn,\n",
        "                          'fn' : fn,\n",
        "                          'precision' : (tp / (tp + fp)),\n",
        "                          'recall' : ((tp / (tp + fn)))},\n",
        "                                      ignore_index = True)"
      ]
    },
    {
      "cell_type": "code",
      "source": [
        "results"
      ],
      "metadata": {
        "colab": {
          "base_uri": "https://localhost:8080/",
          "height": 81
        },
        "id": "OcceSblQkI_s",
        "outputId": "c1bbc4b5-c2a2-455d-c3a8-fff6a5e43d54"
      },
      "execution_count": null,
      "outputs": [
        {
          "output_type": "execute_result",
          "data": {
            "text/plain": [
              "   scale_pos_weight    tp   fp     tn     fn  precision    recall\n",
              "0         17.316964  22.0  3.0  322.0  109.0       0.88  0.167939"
            ],
            "text/html": [
              "\n",
              "  <div id=\"df-1d83ae55-bd65-41de-b08a-394a3627c3ba\">\n",
              "    <div class=\"colab-df-container\">\n",
              "      <div>\n",
              "<style scoped>\n",
              "    .dataframe tbody tr th:only-of-type {\n",
              "        vertical-align: middle;\n",
              "    }\n",
              "\n",
              "    .dataframe tbody tr th {\n",
              "        vertical-align: top;\n",
              "    }\n",
              "\n",
              "    .dataframe thead th {\n",
              "        text-align: right;\n",
              "    }\n",
              "</style>\n",
              "<table border=\"1\" class=\"dataframe\">\n",
              "  <thead>\n",
              "    <tr style=\"text-align: right;\">\n",
              "      <th></th>\n",
              "      <th>scale_pos_weight</th>\n",
              "      <th>tp</th>\n",
              "      <th>fp</th>\n",
              "      <th>tn</th>\n",
              "      <th>fn</th>\n",
              "      <th>precision</th>\n",
              "      <th>recall</th>\n",
              "    </tr>\n",
              "  </thead>\n",
              "  <tbody>\n",
              "    <tr>\n",
              "      <th>0</th>\n",
              "      <td>17.316964</td>\n",
              "      <td>22.0</td>\n",
              "      <td>3.0</td>\n",
              "      <td>322.0</td>\n",
              "      <td>109.0</td>\n",
              "      <td>0.88</td>\n",
              "      <td>0.167939</td>\n",
              "    </tr>\n",
              "  </tbody>\n",
              "</table>\n",
              "</div>\n",
              "      <button class=\"colab-df-convert\" onclick=\"convertToInteractive('df-1d83ae55-bd65-41de-b08a-394a3627c3ba')\"\n",
              "              title=\"Convert this dataframe to an interactive table.\"\n",
              "              style=\"display:none;\">\n",
              "        \n",
              "  <svg xmlns=\"http://www.w3.org/2000/svg\" height=\"24px\"viewBox=\"0 0 24 24\"\n",
              "       width=\"24px\">\n",
              "    <path d=\"M0 0h24v24H0V0z\" fill=\"none\"/>\n",
              "    <path d=\"M18.56 5.44l.94 2.06.94-2.06 2.06-.94-2.06-.94-.94-2.06-.94 2.06-2.06.94zm-11 1L8.5 8.5l.94-2.06 2.06-.94-2.06-.94L8.5 2.5l-.94 2.06-2.06.94zm10 10l.94 2.06.94-2.06 2.06-.94-2.06-.94-.94-2.06-.94 2.06-2.06.94z\"/><path d=\"M17.41 7.96l-1.37-1.37c-.4-.4-.92-.59-1.43-.59-.52 0-1.04.2-1.43.59L10.3 9.45l-7.72 7.72c-.78.78-.78 2.05 0 2.83L4 21.41c.39.39.9.59 1.41.59.51 0 1.02-.2 1.41-.59l7.78-7.78 2.81-2.81c.8-.78.8-2.07 0-2.86zM5.41 20L4 18.59l7.72-7.72 1.47 1.35L5.41 20z\"/>\n",
              "  </svg>\n",
              "      </button>\n",
              "      \n",
              "  <style>\n",
              "    .colab-df-container {\n",
              "      display:flex;\n",
              "      flex-wrap:wrap;\n",
              "      gap: 12px;\n",
              "    }\n",
              "\n",
              "    .colab-df-convert {\n",
              "      background-color: #E8F0FE;\n",
              "      border: none;\n",
              "      border-radius: 50%;\n",
              "      cursor: pointer;\n",
              "      display: none;\n",
              "      fill: #1967D2;\n",
              "      height: 32px;\n",
              "      padding: 0 0 0 0;\n",
              "      width: 32px;\n",
              "    }\n",
              "\n",
              "    .colab-df-convert:hover {\n",
              "      background-color: #E2EBFA;\n",
              "      box-shadow: 0px 1px 2px rgba(60, 64, 67, 0.3), 0px 1px 3px 1px rgba(60, 64, 67, 0.15);\n",
              "      fill: #174EA6;\n",
              "    }\n",
              "\n",
              "    [theme=dark] .colab-df-convert {\n",
              "      background-color: #3B4455;\n",
              "      fill: #D2E3FC;\n",
              "    }\n",
              "\n",
              "    [theme=dark] .colab-df-convert:hover {\n",
              "      background-color: #434B5C;\n",
              "      box-shadow: 0px 1px 3px 1px rgba(0, 0, 0, 0.15);\n",
              "      filter: drop-shadow(0px 1px 2px rgba(0, 0, 0, 0.3));\n",
              "      fill: #FFFFFF;\n",
              "    }\n",
              "  </style>\n",
              "\n",
              "      <script>\n",
              "        const buttonEl =\n",
              "          document.querySelector('#df-1d83ae55-bd65-41de-b08a-394a3627c3ba button.colab-df-convert');\n",
              "        buttonEl.style.display =\n",
              "          google.colab.kernel.accessAllowed ? 'block' : 'none';\n",
              "\n",
              "        async function convertToInteractive(key) {\n",
              "          const element = document.querySelector('#df-1d83ae55-bd65-41de-b08a-394a3627c3ba');\n",
              "          const dataTable =\n",
              "            await google.colab.kernel.invokeFunction('convertToInteractive',\n",
              "                                                     [key], {});\n",
              "          if (!dataTable) return;\n",
              "\n",
              "          const docLinkHtml = 'Like what you see? Visit the ' +\n",
              "            '<a target=\"_blank\" href=https://colab.research.google.com/notebooks/data_table.ipynb>data table notebook</a>'\n",
              "            + ' to learn more about interactive tables.';\n",
              "          element.innerHTML = '';\n",
              "          dataTable['output_type'] = 'display_data';\n",
              "          await google.colab.output.renderOutput(dataTable, element);\n",
              "          const docLink = document.createElement('div');\n",
              "          docLink.innerHTML = docLinkHtml;\n",
              "          element.appendChild(docLink);\n",
              "        }\n",
              "      </script>\n",
              "    </div>\n",
              "  </div>\n",
              "  "
            ]
          },
          "metadata": {},
          "execution_count": 38
        }
      ]
    },
    {
      "cell_type": "code",
      "execution_count": null,
      "metadata": {
        "colab": {
          "base_uri": "https://localhost:8080/",
          "height": 269
        },
        "id": "uiqD5Jkvd8jC",
        "outputId": "67d2039d-0a4a-452c-dc8d-5050ceb811a4"
      },
      "outputs": [
        {
          "output_type": "display_data",
          "data": {
            "text/plain": [
              "   scale_pos_weight    tp   fp     tn     fn  precision    recall\n",
              "0         17.316964  22.0  3.0  322.0  109.0       0.88  0.167939\n",
              "1         15.000000  16.0  9.0  397.0   34.0       0.64  0.320000\n",
              "2         16.000000  16.0  9.0  397.0   34.0       0.64  0.320000\n",
              "3         17.000000  21.0  4.0  327.0  104.0       0.84  0.168000\n",
              "4         18.000000  22.0  3.0  330.0  101.0       0.88  0.178862\n",
              "5         19.000000  21.0  4.0  332.0   99.0       0.84  0.175000\n",
              "6         20.000000  20.0  5.0  328.0  103.0       0.80  0.162602"
            ],
            "text/html": [
              "\n",
              "  <div id=\"df-0e24a620-11e1-4a46-a57e-5f9e0fb78c4e\">\n",
              "    <div class=\"colab-df-container\">\n",
              "      <div>\n",
              "<style scoped>\n",
              "    .dataframe tbody tr th:only-of-type {\n",
              "        vertical-align: middle;\n",
              "    }\n",
              "\n",
              "    .dataframe tbody tr th {\n",
              "        vertical-align: top;\n",
              "    }\n",
              "\n",
              "    .dataframe thead th {\n",
              "        text-align: right;\n",
              "    }\n",
              "</style>\n",
              "<table border=\"1\" class=\"dataframe\">\n",
              "  <thead>\n",
              "    <tr style=\"text-align: right;\">\n",
              "      <th></th>\n",
              "      <th>scale_pos_weight</th>\n",
              "      <th>tp</th>\n",
              "      <th>fp</th>\n",
              "      <th>tn</th>\n",
              "      <th>fn</th>\n",
              "      <th>precision</th>\n",
              "      <th>recall</th>\n",
              "    </tr>\n",
              "  </thead>\n",
              "  <tbody>\n",
              "    <tr>\n",
              "      <th>0</th>\n",
              "      <td>17.316964</td>\n",
              "      <td>22.0</td>\n",
              "      <td>3.0</td>\n",
              "      <td>322.0</td>\n",
              "      <td>109.0</td>\n",
              "      <td>0.88</td>\n",
              "      <td>0.167939</td>\n",
              "    </tr>\n",
              "    <tr>\n",
              "      <th>1</th>\n",
              "      <td>15.000000</td>\n",
              "      <td>16.0</td>\n",
              "      <td>9.0</td>\n",
              "      <td>397.0</td>\n",
              "      <td>34.0</td>\n",
              "      <td>0.64</td>\n",
              "      <td>0.320000</td>\n",
              "    </tr>\n",
              "    <tr>\n",
              "      <th>2</th>\n",
              "      <td>16.000000</td>\n",
              "      <td>16.0</td>\n",
              "      <td>9.0</td>\n",
              "      <td>397.0</td>\n",
              "      <td>34.0</td>\n",
              "      <td>0.64</td>\n",
              "      <td>0.320000</td>\n",
              "    </tr>\n",
              "    <tr>\n",
              "      <th>3</th>\n",
              "      <td>17.000000</td>\n",
              "      <td>21.0</td>\n",
              "      <td>4.0</td>\n",
              "      <td>327.0</td>\n",
              "      <td>104.0</td>\n",
              "      <td>0.84</td>\n",
              "      <td>0.168000</td>\n",
              "    </tr>\n",
              "    <tr>\n",
              "      <th>4</th>\n",
              "      <td>18.000000</td>\n",
              "      <td>22.0</td>\n",
              "      <td>3.0</td>\n",
              "      <td>330.0</td>\n",
              "      <td>101.0</td>\n",
              "      <td>0.88</td>\n",
              "      <td>0.178862</td>\n",
              "    </tr>\n",
              "    <tr>\n",
              "      <th>5</th>\n",
              "      <td>19.000000</td>\n",
              "      <td>21.0</td>\n",
              "      <td>4.0</td>\n",
              "      <td>332.0</td>\n",
              "      <td>99.0</td>\n",
              "      <td>0.84</td>\n",
              "      <td>0.175000</td>\n",
              "    </tr>\n",
              "    <tr>\n",
              "      <th>6</th>\n",
              "      <td>20.000000</td>\n",
              "      <td>20.0</td>\n",
              "      <td>5.0</td>\n",
              "      <td>328.0</td>\n",
              "      <td>103.0</td>\n",
              "      <td>0.80</td>\n",
              "      <td>0.162602</td>\n",
              "    </tr>\n",
              "  </tbody>\n",
              "</table>\n",
              "</div>\n",
              "      <button class=\"colab-df-convert\" onclick=\"convertToInteractive('df-0e24a620-11e1-4a46-a57e-5f9e0fb78c4e')\"\n",
              "              title=\"Convert this dataframe to an interactive table.\"\n",
              "              style=\"display:none;\">\n",
              "        \n",
              "  <svg xmlns=\"http://www.w3.org/2000/svg\" height=\"24px\"viewBox=\"0 0 24 24\"\n",
              "       width=\"24px\">\n",
              "    <path d=\"M0 0h24v24H0V0z\" fill=\"none\"/>\n",
              "    <path d=\"M18.56 5.44l.94 2.06.94-2.06 2.06-.94-2.06-.94-.94-2.06-.94 2.06-2.06.94zm-11 1L8.5 8.5l.94-2.06 2.06-.94-2.06-.94L8.5 2.5l-.94 2.06-2.06.94zm10 10l.94 2.06.94-2.06 2.06-.94-2.06-.94-.94-2.06-.94 2.06-2.06.94z\"/><path d=\"M17.41 7.96l-1.37-1.37c-.4-.4-.92-.59-1.43-.59-.52 0-1.04.2-1.43.59L10.3 9.45l-7.72 7.72c-.78.78-.78 2.05 0 2.83L4 21.41c.39.39.9.59 1.41.59.51 0 1.02-.2 1.41-.59l7.78-7.78 2.81-2.81c.8-.78.8-2.07 0-2.86zM5.41 20L4 18.59l7.72-7.72 1.47 1.35L5.41 20z\"/>\n",
              "  </svg>\n",
              "      </button>\n",
              "      \n",
              "  <style>\n",
              "    .colab-df-container {\n",
              "      display:flex;\n",
              "      flex-wrap:wrap;\n",
              "      gap: 12px;\n",
              "    }\n",
              "\n",
              "    .colab-df-convert {\n",
              "      background-color: #E8F0FE;\n",
              "      border: none;\n",
              "      border-radius: 50%;\n",
              "      cursor: pointer;\n",
              "      display: none;\n",
              "      fill: #1967D2;\n",
              "      height: 32px;\n",
              "      padding: 0 0 0 0;\n",
              "      width: 32px;\n",
              "    }\n",
              "\n",
              "    .colab-df-convert:hover {\n",
              "      background-color: #E2EBFA;\n",
              "      box-shadow: 0px 1px 2px rgba(60, 64, 67, 0.3), 0px 1px 3px 1px rgba(60, 64, 67, 0.15);\n",
              "      fill: #174EA6;\n",
              "    }\n",
              "\n",
              "    [theme=dark] .colab-df-convert {\n",
              "      background-color: #3B4455;\n",
              "      fill: #D2E3FC;\n",
              "    }\n",
              "\n",
              "    [theme=dark] .colab-df-convert:hover {\n",
              "      background-color: #434B5C;\n",
              "      box-shadow: 0px 1px 3px 1px rgba(0, 0, 0, 0.15);\n",
              "      filter: drop-shadow(0px 1px 2px rgba(0, 0, 0, 0.3));\n",
              "      fill: #FFFFFF;\n",
              "    }\n",
              "  </style>\n",
              "\n",
              "      <script>\n",
              "        const buttonEl =\n",
              "          document.querySelector('#df-0e24a620-11e1-4a46-a57e-5f9e0fb78c4e button.colab-df-convert');\n",
              "        buttonEl.style.display =\n",
              "          google.colab.kernel.accessAllowed ? 'block' : 'none';\n",
              "\n",
              "        async function convertToInteractive(key) {\n",
              "          const element = document.querySelector('#df-0e24a620-11e1-4a46-a57e-5f9e0fb78c4e');\n",
              "          const dataTable =\n",
              "            await google.colab.kernel.invokeFunction('convertToInteractive',\n",
              "                                                     [key], {});\n",
              "          if (!dataTable) return;\n",
              "\n",
              "          const docLinkHtml = 'Like what you see? Visit the ' +\n",
              "            '<a target=\"_blank\" href=https://colab.research.google.com/notebooks/data_table.ipynb>data table notebook</a>'\n",
              "            + ' to learn more about interactive tables.';\n",
              "          element.innerHTML = '';\n",
              "          dataTable['output_type'] = 'display_data';\n",
              "          await google.colab.output.renderOutput(dataTable, element);\n",
              "          const docLink = document.createElement('div');\n",
              "          docLink.innerHTML = docLinkHtml;\n",
              "          element.appendChild(docLink);\n",
              "        }\n",
              "      </script>\n",
              "    </div>\n",
              "  </div>\n",
              "  "
            ]
          },
          "metadata": {}
        }
      ],
      "source": [
        "ranges = [15,16,17,18,19,20]\n",
        "for i in ranges:\n",
        "  useful_features = [col for col in df_train.columns if col not in ['kfold','stroke']]\n",
        "  object_cols = [col for col in df_train.select_dtypes('object').columns]\n",
        "  numeric_cols = [col for col in df_train.columns if col not in object_cols and col not in ['kfold','stroke']]\n",
        "\n",
        "\n",
        "  final_predictions = []\n",
        "  final_valids = []\n",
        "  for fold in range(10):\n",
        "    xtrain =  df_train[df_train.kfold != fold].reset_index(drop=True)\n",
        "    xvalid = df_train[df_train.kfold == fold].reset_index(drop=True)\n",
        "    xtest = X_val.copy()\n",
        "\n",
        "    ytrain = xtrain.stroke\n",
        "    yvalid = xvalid.stroke\n",
        "\n",
        "    xtrain = xtrain[useful_features]\n",
        "    xvalid = xvalid[useful_features]\n",
        "\n",
        "    ordinal_encoder = OrdinalEncoder(handle_unknown='use_encoded_value', unknown_value=-1)\n",
        "    xtrain[object_cols] = ordinal_encoder.fit_transform(xtrain[object_cols])\n",
        "    xvalid[object_cols] = ordinal_encoder.transform(xvalid[object_cols])\n",
        "    xtest[object_cols] = ordinal_encoder.transform(xtest[object_cols])\n",
        "\n",
        "    standart_scaler = StandardScaler()\n",
        "    xtrain[numeric_cols] = standart_scaler.fit_transform(xtrain[numeric_cols])\n",
        "    xvalid[numeric_cols] = standart_scaler.transform(xvalid[numeric_cols])\n",
        "    xtest[numeric_cols] = standart_scaler.transform(xtest[numeric_cols])\n",
        "\n",
        "    imputer = KNNImputer(n_neighbors=10)\n",
        "    xtrain = pd.DataFrame(imputer.fit_transform(xtrain), columns = xtrain.columns)\n",
        "    xvalid = pd.DataFrame(imputer.transform(xvalid), columns = xvalid.columns)\n",
        "    xtest = pd.DataFrame(imputer.transform(xtest), columns = xtest.columns)\n",
        "\n",
        "     \n",
        "    clf = XGBClassifier(scale_pos_weight = i, random_state = fold)\n",
        "    clf.fit(xtrain, ytrain, eval_set=[(xvalid,yvalid)],early_stopping_rounds=300,verbose=False)\n",
        "    preds_valid = clf.predict(xvalid)\n",
        "    test_preds = clf.predict(xtest)\n",
        "    final_predictions.append(test_preds)\n",
        "    \n",
        "\n",
        "  finals = np.mean(np.column_stack(final_predictions), axis=1)\n",
        "  fpr, tpr, thresholds = roc_curve(y_val,finals)\n",
        "  # calculate the g-mean for each threshold\n",
        "  gmeans = np.sqrt(tpr * (1-fpr))\n",
        "\n",
        "  # locate the index of the largest g-mean\n",
        "  ix = np.argmax(gmeans)\n",
        "\n",
        "  y_pred = [1 if x >= thresholds[ix] else 0 for x in finals]\n",
        "\n",
        "  tp, fp, tn, fn = metrics(y_val, y_pred)\n",
        "\n",
        "  results = results.append({'scale_pos_weight': i ,\n",
        "                          'tp' : tp,\n",
        "                          'fp' : fp,\n",
        "                          'tn' : tn,\n",
        "                          'fn' : fn,\n",
        "                          'precision' : (tp / (tp + fp)),\n",
        "                          'recall' : ((tp / (tp + fn)))},\n",
        "                                      ignore_index = True)\n",
        "\n",
        "display(results)"
      ]
    },
    {
      "cell_type": "code",
      "source": [
        "# scale_pos_weight = 19 is the best model\n",
        "useful_features = [col for col in df_train.columns if col not in ['kfold','stroke']]\n",
        "object_cols = [col for col in df_train.select_dtypes('object').columns]\n",
        "numeric_cols = [col for col in df_train.columns if col not in object_cols and col not in ['kfold','stroke']]\n",
        "\n",
        "weight = len(df_train) / (df_train.stroke.nunique() * np.bincount(df_train.stroke.values))\n",
        "spw = weight[1] / weight[0]\n",
        "\n",
        "final_predictions = []\n",
        "for fold in range(10):\n",
        "  xtrain =  df_train[df_train.kfold != fold].reset_index(drop=True)\n",
        "  xvalid = df_train[df_train.kfold == fold].reset_index(drop=True)\n",
        "  xtest = X_val.copy()\n",
        "\n",
        "  ytrain = xtrain.stroke\n",
        "  yvalid = xvalid.stroke\n",
        "\n",
        "  xtrain = xtrain[useful_features]\n",
        "  xvalid = xvalid[useful_features]\n",
        "\n",
        "  ordinal_encoder = OrdinalEncoder(handle_unknown='use_encoded_value', unknown_value=-1)\n",
        "  xtrain[object_cols] = ordinal_encoder.fit_transform(xtrain[object_cols])\n",
        "  xvalid[object_cols] = ordinal_encoder.transform(xvalid[object_cols])\n",
        "  xtest[object_cols] = ordinal_encoder.transform(xtest[object_cols])\n",
        "\n",
        "  standart_scaler = StandardScaler()\n",
        "  xtrain[numeric_cols] = standart_scaler.fit_transform(xtrain[numeric_cols])\n",
        "  xvalid[numeric_cols] = standart_scaler.transform(xvalid[numeric_cols])\n",
        "  xtest[numeric_cols] = standart_scaler.transform(xtest[numeric_cols])\n",
        "\n",
        "  imputer = KNNImputer(n_neighbors=10)\n",
        "  xtrain = pd.DataFrame(imputer.fit_transform(xtrain), columns = xtrain.columns)\n",
        "  xvalid = pd.DataFrame(imputer.transform(xvalid), columns = xvalid.columns)\n",
        "  xtest = pd.DataFrame(imputer.transform(xtest), columns = xtest.columns)\n",
        "\n",
        "  clf = XGBClassifier(random_state=fold, n_jobs=4, scale_pos_weight = 19)\n",
        "  clf.fit(xtrain, ytrain, eval_set=[(xvalid,yvalid)],early_stopping_rounds=300,verbose=False)\n",
        "  preds_valid = clf.predict(xvalid)\n",
        "  test_preds = clf.predict(xtest)\n",
        "  final_predictions.append(test_preds)\n",
        "  print(fold, f1_score(yvalid, preds_valid), precision_score(yvalid,preds_valid))\n",
        "\n",
        "\n",
        "finals = np.mean(np.column_stack(final_predictions), axis=1)\n",
        "fpr, tpr, thresholds = roc_curve(y_val,finals)\n",
        "# calculate the g-mean for each threshold\n",
        "gmeans = np.sqrt(tpr * (1-fpr))\n",
        "\n",
        "# locate the index of the largest g-mean\n",
        "ix = np.argmax(gmeans)\n",
        "\n",
        "y_pred = [1 if x >= thresholds[ix] else 0 for x in finals]\n",
        "\n",
        "tp, fp, tn, fn = metrics(y_val, y_pred)"
      ],
      "metadata": {
        "colab": {
          "base_uri": "https://localhost:8080/"
        },
        "id": "lH6KgHXVOY_N",
        "outputId": "05e8a0db-6c60-4874-80f9-beaae5f20c02"
      },
      "execution_count": null,
      "outputs": [
        {
          "output_type": "stream",
          "name": "stdout",
          "text": [
            "0 0.3272727272727273 0.20689655172413793\n",
            "1 0.46874999999999994 0.36585365853658536\n",
            "2 0.37362637362637363 0.25\n",
            "3 0.28846153846153844 0.18292682926829268\n",
            "4 0.3516483516483516 0.2318840579710145\n",
            "5 0.26666666666666666 0.1686746987951807\n",
            "6 0.30303030303030304 0.19480519480519481\n",
            "7 0.2162162162162162 0.1348314606741573\n",
            "8 0.34234234234234234 0.21348314606741572\n",
            "9 0.3478260869565218 0.21739130434782608\n"
          ]
        }
      ]
    },
    {
      "cell_type": "code",
      "source": [
        "# save scaler\n",
        "import joblib\n",
        "joblib.dump(ordinal_encoder, 'ordinal_encoder.gz')\n",
        "joblib.dump(standart_scaler, 'standard_scaler.gz')\n",
        "joblib.dump(imputer, 'knn_imputer.gz')\n",
        "\n",
        "model_name = \"stroke_xgb.pickle\"\n",
        "joblib.dump(clf, model_name)"
      ],
      "metadata": {
        "id": "BKpEV9cGVcbz",
        "colab": {
          "base_uri": "https://localhost:8080/"
        },
        "outputId": "f15ea9f0-aa98-4299-a70b-d1bc6d166e5a"
      },
      "execution_count": null,
      "outputs": [
        {
          "output_type": "execute_result",
          "data": {
            "text/plain": [
              "['stroke_xgb.pickle']"
            ]
          },
          "metadata": {},
          "execution_count": 42
        }
      ]
    },
    {
      "cell_type": "code",
      "source": [
        "clf.save_model('stroke_xgb.json')"
      ],
      "metadata": {
        "id": "EJARoGn9zlww"
      },
      "execution_count": null,
      "outputs": []
    },
    {
      "cell_type": "code",
      "source": [],
      "metadata": {
        "id": "wuHdoAOAmIrX"
      },
      "execution_count": null,
      "outputs": []
    }
  ],
  "metadata": {
    "colab": {
      "collapsed_sections": [
        "yOGkEvuJRZgD",
        "-nhTJWFmRZgD",
        "kyQ8pRvHRZgD"
      ],
      "provenance": []
    },
    "interpreter": {
      "hash": "dca0ade3e726a953b501b15e8e990130d2b7799f14cfd9f4271676035ebe5511"
    },
    "kernelspec": {
      "display_name": "Python 3.8.5 64-bit ('base': conda)",
      "name": "python3"
    },
    "language_info": {
      "codemirror_mode": {
        "name": "ipython",
        "version": 3
      },
      "file_extension": ".py",
      "mimetype": "text/x-python",
      "name": "python",
      "nbconvert_exporter": "python",
      "pygments_lexer": "ipython3",
      "version": "3.8.5"
    },
    "accelerator": "GPU",
    "gpuClass": "standard"
  },
  "nbformat": 4,
  "nbformat_minor": 0
}