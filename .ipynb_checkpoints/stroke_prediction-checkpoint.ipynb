{
 "cells": [
  {
   "cell_type": "markdown",
   "metadata": {
    "id": "p-1ZkcXcRZfP"
   },
   "source": [
    "# Stroke Prediction\n",
    "Stroke is the 2nd highest cause of mortality in the world (WHO). Even if an individual survives a stroke, it is common that the individual has severe symptoms such as spasticity, cognitive problems etc.\n",
    "\n",
    "Since stroke is a major health problem, it is crucial to know the risk factors that cause a stroke.In this dataset, we will investigate these factors and build a model that predicts stroke.\n",
    "\n",
    "The data set contains 11 features and 1 target variable. The target variable is 'Stroke' column, which is binary data 0: No stroke, 1 : Stroke.  \n",
    "\n",
    "Anyway, let's start digging.\n"
   ]
  },
  {
   "cell_type": "markdown",
   "metadata": {
    "id": "BRP6XH5ERZfg"
   },
   "source": [
    "#### Importing packages "
   ]
  },
  {
   "cell_type": "code",
   "execution_count": 1,
   "metadata": {
    "id": "E5yf3eEBRZfh"
   },
   "outputs": [],
   "source": [
    "import pandas as pd\n",
    "import seaborn as sns\n",
    "import matplotlib.pyplot as plt\n",
    "%matplotlib inline\n",
    "import plotly.express as px\n",
    "import numpy as np\n",
    "from scipy import stats\n",
    "\n",
    "pd.set_option('display.max_columns', 60)\n",
    "\n",
    "\n",
    "import warnings\n",
    "warnings.filterwarnings(\"ignore\")\n",
    "\n",
    "from sklearn.impute import KNNImputer\n",
    "from sklearn.preprocessing import LabelEncoder, StandardScaler, OrdinalEncoder\n",
    "\n",
    "# metrics\n",
    "from sklearn.metrics import accuracy_score, classification_report, auc, make_scorer\n",
    "from sklearn.metrics import confusion_matrix, recall_score \n",
    "from sklearn.metrics import f1_score, precision_score, roc_curve, precision_recall_curve, roc_auc_score\n",
    "\n",
    "# folds\n",
    "from sklearn.model_selection import StratifiedKFold, cross_val_score, train_test_split\n",
    "\n",
    "\n",
    "from xgboost import XGBClassifier"
   ]
  },
  {
   "cell_type": "code",
   "execution_count": 2,
   "metadata": {
    "id": "_BkdV2IFRZfu"
   },
   "outputs": [],
   "source": [
    "# Read the csv file\n",
    "url = \"https://raw.githubusercontent.com/orkunaran/Stroke-Prediction/main/healthcare-dataset-stroke-data.csv\"\n",
    "path = \"stroke_data.csv\"\n",
    "df = pd.read_csv(path)"
   ]
  },
  {
   "cell_type": "code",
   "execution_count": 3,
   "metadata": {
    "colab": {
     "base_uri": "https://localhost:8080/",
     "height": 395
    },
    "id": "XR7xFHKVRZfv",
    "outputId": "fc815b1d-a65a-45d3-e2ad-ba93dc7eb1df",
    "scrolled": false
   },
   "outputs": [
    {
     "data": {
      "text/html": [
       "<div>\n",
       "<style scoped>\n",
       "    .dataframe tbody tr th:only-of-type {\n",
       "        vertical-align: middle;\n",
       "    }\n",
       "\n",
       "    .dataframe tbody tr th {\n",
       "        vertical-align: top;\n",
       "    }\n",
       "\n",
       "    .dataframe thead th {\n",
       "        text-align: right;\n",
       "    }\n",
       "</style>\n",
       "<table border=\"1\" class=\"dataframe\">\n",
       "  <thead>\n",
       "    <tr style=\"text-align: right;\">\n",
       "      <th></th>\n",
       "      <th>gender</th>\n",
       "      <th>age</th>\n",
       "      <th>hypertension</th>\n",
       "      <th>heart_disease</th>\n",
       "      <th>ever_married</th>\n",
       "      <th>work_type</th>\n",
       "      <th>Residence_type</th>\n",
       "      <th>avg_glucose_level</th>\n",
       "      <th>bmi</th>\n",
       "      <th>smoking_status</th>\n",
       "      <th>stroke</th>\n",
       "    </tr>\n",
       "  </thead>\n",
       "  <tbody>\n",
       "    <tr>\n",
       "      <th>0</th>\n",
       "      <td>Male</td>\n",
       "      <td>67.0</td>\n",
       "      <td>0</td>\n",
       "      <td>1</td>\n",
       "      <td>Yes</td>\n",
       "      <td>Private</td>\n",
       "      <td>Urban</td>\n",
       "      <td>228.69</td>\n",
       "      <td>36.6</td>\n",
       "      <td>formerly smoked</td>\n",
       "      <td>1</td>\n",
       "    </tr>\n",
       "    <tr>\n",
       "      <th>1</th>\n",
       "      <td>Female</td>\n",
       "      <td>61.0</td>\n",
       "      <td>0</td>\n",
       "      <td>0</td>\n",
       "      <td>Yes</td>\n",
       "      <td>Self-employed</td>\n",
       "      <td>Rural</td>\n",
       "      <td>202.21</td>\n",
       "      <td>NaN</td>\n",
       "      <td>never smoked</td>\n",
       "      <td>1</td>\n",
       "    </tr>\n",
       "    <tr>\n",
       "      <th>2</th>\n",
       "      <td>Male</td>\n",
       "      <td>80.0</td>\n",
       "      <td>0</td>\n",
       "      <td>1</td>\n",
       "      <td>Yes</td>\n",
       "      <td>Private</td>\n",
       "      <td>Rural</td>\n",
       "      <td>105.92</td>\n",
       "      <td>32.5</td>\n",
       "      <td>never smoked</td>\n",
       "      <td>1</td>\n",
       "    </tr>\n",
       "    <tr>\n",
       "      <th>3</th>\n",
       "      <td>Female</td>\n",
       "      <td>49.0</td>\n",
       "      <td>0</td>\n",
       "      <td>0</td>\n",
       "      <td>Yes</td>\n",
       "      <td>Private</td>\n",
       "      <td>Urban</td>\n",
       "      <td>171.23</td>\n",
       "      <td>34.4</td>\n",
       "      <td>smokes</td>\n",
       "      <td>1</td>\n",
       "    </tr>\n",
       "    <tr>\n",
       "      <th>4</th>\n",
       "      <td>Female</td>\n",
       "      <td>79.0</td>\n",
       "      <td>1</td>\n",
       "      <td>0</td>\n",
       "      <td>Yes</td>\n",
       "      <td>Self-employed</td>\n",
       "      <td>Rural</td>\n",
       "      <td>174.12</td>\n",
       "      <td>24.0</td>\n",
       "      <td>never smoked</td>\n",
       "      <td>1</td>\n",
       "    </tr>\n",
       "  </tbody>\n",
       "</table>\n",
       "</div>"
      ],
      "text/plain": [
       "   gender   age  hypertension  heart_disease ever_married      work_type  \\\n",
       "0    Male  67.0             0              1          Yes        Private   \n",
       "1  Female  61.0             0              0          Yes  Self-employed   \n",
       "2    Male  80.0             0              1          Yes        Private   \n",
       "3  Female  49.0             0              0          Yes        Private   \n",
       "4  Female  79.0             1              0          Yes  Self-employed   \n",
       "\n",
       "  Residence_type  avg_glucose_level   bmi   smoking_status  stroke  \n",
       "0          Urban             228.69  36.6  formerly smoked       1  \n",
       "1          Rural             202.21   NaN     never smoked       1  \n",
       "2          Rural             105.92  32.5     never smoked       1  \n",
       "3          Urban             171.23  34.4           smokes       1  \n",
       "4          Rural             174.12  24.0     never smoked       1  "
      ]
     },
     "metadata": {},
     "output_type": "display_data"
    }
   ],
   "source": [
    "# First and last 5 rows of the data\n",
    "display(df.head())"
   ]
  },
  {
   "cell_type": "markdown",
   "metadata": {
    "id": "X1BYwTWyRZgP"
   },
   "source": [
    "# Model Interpretation"
   ]
  },
  {
   "cell_type": "code",
   "execution_count": 4,
   "metadata": {
    "id": "9j2wVu3C4Rv_"
   },
   "outputs": [],
   "source": [
    "#spare a validation dataset\n",
    "X_train, X_val, y_train, y_val = train_test_split(\n",
    "    df.drop('stroke',axis=1),\n",
    "    df.stroke,\n",
    "    test_size = 0.1, \n",
    "    stratify = df.stroke.values,\n",
    "    random_state= 42\n",
    "    )"
   ]
  },
  {
   "cell_type": "code",
   "execution_count": 5,
   "metadata": {
    "id": "WzFfw12J4pRQ"
   },
   "outputs": [],
   "source": [
    "df_train = X_train.copy(deep = True)\n",
    "df_train['stroke'] = y_train"
   ]
  },
  {
   "cell_type": "code",
   "execution_count": 6,
   "metadata": {
    "id": "pxaOTlX1PbJR"
   },
   "outputs": [],
   "source": [
    "# creating folds\n",
    "df_train[\"kfold\"] = -1\n",
    "# the next step is to randomize the rows of the data\n",
    "df_train = df_train.sample(frac=1).reset_index(drop=True)\n",
    "y = df_train.stroke.values\n",
    "# initiate the kfold class from model_selection module\n",
    "kf = StratifiedKFold(n_splits=10)\n",
    "# fill the new kfold column\n",
    "for f, (t_, v_) in enumerate(kf.split(X=df_train, y=y)):\n",
    "  df_train.loc[v_, 'kfold'] = f\n",
    "\n",
    "#df.to_csv('stroke_fold.csv', index = False)\n"
   ]
  },
  {
   "cell_type": "code",
   "execution_count": 7,
   "metadata": {
    "id": "awwyiHogiq89"
   },
   "outputs": [],
   "source": [
    "def metrics(y_val, y_preds):\n",
    "  tp = 0\n",
    "  fp = 0\n",
    "  tn = 0\n",
    "  fn = 0\n",
    "  for yr, yp in zip(y_val,y_preds):\n",
    "    if yr == 1 and yp == 1:\n",
    "      tp += 1\n",
    "    elif yr == 1 and yp == 0:\n",
    "      fp +=1\n",
    "    elif yr == 0 and yp == 0:\n",
    "      tn += 1\n",
    "    else:\n",
    "      fn += 1\n",
    "\n",
    "  return tp, fp, tn, fn\n",
    "\n",
    "\n",
    "results = pd.DataFrame()"
   ]
  },
  {
   "cell_type": "code",
   "execution_count": 8,
   "metadata": {
    "colab": {
     "base_uri": "https://localhost:8080/"
    },
    "id": "lpcmIComQpPf",
    "outputId": "157e7cd7-8434-4fce-d345-6225566e07ad"
   },
   "outputs": [
    {
     "name": "stdout",
     "output_type": "stream",
     "text": [
      "0 0.5128205128205128 0.625\n",
      "1 0.37037037037037035 0.3225806451612903\n",
      "2 0.41025641025641024 0.5\n",
      "3 0.6111111111111112 0.7857142857142857\n",
      "4 0.5116279069767442 0.5238095238095238\n",
      "5 0.3 0.3333333333333333\n",
      "6 0.47368421052631576 0.5625\n",
      "7 0.5333333333333332 0.5217391304347826\n",
      "8 0.380952380952381 0.4\n",
      "9 0.27906976744186046 0.3\n"
     ]
    }
   ],
   "source": [
    "useful_features = [col for col in df_train.columns if col not in ['kfold','stroke']]\n",
    "object_cols = [col for col in df_train.select_dtypes('object').columns]\n",
    "numeric_cols = [col for col in df_train.columns if col not in object_cols and col not in ['kfold','stroke']]\n",
    "\n",
    "weight = len(df_train) / (df_train.stroke.nunique() * np.bincount(df_train.stroke.values))\n",
    "spw = weight[1] / weight[0]\n",
    "\n",
    "final_predictions = []\n",
    "for fold in range(10):\n",
    "  xtrain =  df_train[df_train.kfold != fold].reset_index(drop=True)\n",
    "  xvalid = df_train[df_train.kfold == fold].reset_index(drop=True)\n",
    "  xtest = X_val.copy()\n",
    "\n",
    "  ytrain = xtrain.stroke\n",
    "  yvalid = xvalid.stroke\n",
    "\n",
    "  xtrain = xtrain[useful_features]\n",
    "  xvalid = xvalid[useful_features]\n",
    "\n",
    "  ordinal_encoder = OrdinalEncoder(handle_unknown='use_encoded_value', unknown_value=-1)\n",
    "  xtrain[object_cols] = ordinal_encoder.fit_transform(xtrain[object_cols])\n",
    "  xvalid[object_cols] = ordinal_encoder.transform(xvalid[object_cols])\n",
    "  xtest[object_cols] = ordinal_encoder.transform(xtest[object_cols])\n",
    "\n",
    "  standart_scaler = StandardScaler()\n",
    "  xtrain[numeric_cols] = standart_scaler.fit_transform(xtrain[numeric_cols])\n",
    "  xvalid[numeric_cols] = standart_scaler.transform(xvalid[numeric_cols])\n",
    "  xtest[numeric_cols] = standart_scaler.transform(xtest[numeric_cols])\n",
    "\n",
    "  imputer = KNNImputer(n_neighbors=10)\n",
    "  xtrain = pd.DataFrame(imputer.fit_transform(xtrain), columns = xtrain.columns)\n",
    "  xvalid = pd.DataFrame(imputer.transform(xvalid), columns = xvalid.columns)\n",
    "  xtest = pd.DataFrame(imputer.transform(xtest), columns = xtest.columns)\n",
    "\n",
    "  clf = XGBClassifier(random_state=fold, n_jobs=4, scale_pos_weight = spw, eval_metric = 'logloss')\n",
    "  clf.fit(xtrain, ytrain, eval_set=[(xvalid,yvalid)],early_stopping_rounds=300,verbose=False)\n",
    "  preds_valid = clf.predict(xvalid)\n",
    "  test_preds = clf.predict(xtest)\n",
    "  final_predictions.append(test_preds)\n",
    "  print(fold, f1_score(yvalid, preds_valid), precision_score(yvalid,preds_valid))"
   ]
  },
  {
   "cell_type": "code",
   "execution_count": 9,
   "metadata": {
    "id": "4w05NDiF6KoP"
   },
   "outputs": [],
   "source": [
    "finals = np.mean(np.column_stack(final_predictions), axis=1)"
   ]
  },
  {
   "cell_type": "code",
   "execution_count": 10,
   "metadata": {
    "id": "tQZaLHuBWHtW"
   },
   "outputs": [],
   "source": [
    "fpr, tpr, thresholds = roc_curve(y_val,finals)\n",
    "# calculate the g-mean for each threshold\n",
    "gmeans = np.sqrt(tpr * (1-fpr))"
   ]
  },
  {
   "cell_type": "code",
   "execution_count": 11,
   "metadata": {
    "colab": {
     "base_uri": "https://localhost:8080/",
     "height": 296
    },
    "id": "anrus8XuUA2n",
    "outputId": "ac6c4623-1137-4190-9a59-b3179b61dbaa"
   },
   "outputs": [
    {
     "name": "stdout",
     "output_type": "stream",
     "text": [
      "Best Threshold=0.100000, G-Mean=0.705\n"
     ]
    },
    {
     "data": {
      "image/png": "[encoded data removed]",
      "text/plain": [
       "<Figure size 432x288 with 1 Axes>"
      ]
     },
     "metadata": {
      "needs_background": "light"
     },
     "output_type": "display_data"
    }
   ],
   "source": [
    "# locate the index of the largest g-mean\n",
    "ix = np.argmax(gmeans)\n",
    "print('Best Threshold=%f, G-Mean=%.3f' % (thresholds[ix], gmeans[ix]))\n",
    "# plot the roc curve for the model\n",
    "plt.plot([0,1], [0,1], linestyle='--', label='No Skill')\n",
    "plt.plot(fpr, tpr, marker='.', label='XGB')\n",
    "plt.scatter(fpr[ix], tpr[ix], marker='o', color='black', label='Best')\n",
    "# axis labels\n",
    "plt.xlabel('False Positive Rate')\n",
    "plt.ylabel('True Positive Rate')\n",
    "plt.legend()\n",
    "# show the plot\n",
    "plt.show()"
   ]
  },
  {
   "cell_type": "code",
   "execution_count": 12,
   "metadata": {
    "id": "3Mm7ik_sYuER"
   },
   "outputs": [],
   "source": [
    "y_pred = [1 if x >= thresholds[ix] else 0 for x in finals]\n",
    "tp, fp, tn, fn = metrics(y_val, y_pred)\n",
    "\n",
    "results = results.append({'scale_pos_weight': spw,\n",
    "                          'tp' : tp,\n",
    "                          'fp' : fp,\n",
    "                          'tn' : tn,\n",
    "                          'fn' : fn,\n",
    "                          'precision' : (tp / (tp + fp)),\n",
    "                          'recall' : ((tp / (tp + fn)))},\n",
    "                                      ignore_index = True)"
   ]
  },
  {
   "cell_type": "code",
   "execution_count": 13,
   "metadata": {
    "colab": {
     "base_uri": "https://localhost:8080/",
     "height": 81
    },
    "id": "OcceSblQkI_s",
    "outputId": "fadac02e-4232-4237-bda5-d40e51d6bc46"
   },
   "outputs": [
    {
     "data": {
      "text/html": [
       "<div>\n",
       "<style scoped>\n",
       "    .dataframe tbody tr th:only-of-type {\n",
       "        vertical-align: middle;\n",
       "    }\n",
       "\n",
       "    .dataframe tbody tr th {\n",
       "        vertical-align: top;\n",
       "    }\n",
       "\n",
       "    .dataframe thead th {\n",
       "        text-align: right;\n",
       "    }\n",
       "</style>\n",
       "<table border=\"1\" class=\"dataframe\">\n",
       "  <thead>\n",
       "    <tr style=\"text-align: right;\">\n",
       "      <th></th>\n",
       "      <th>scale_pos_weight</th>\n",
       "      <th>tp</th>\n",
       "      <th>fp</th>\n",
       "      <th>tn</th>\n",
       "      <th>fn</th>\n",
       "      <th>precision</th>\n",
       "      <th>recall</th>\n",
       "    </tr>\n",
       "  </thead>\n",
       "  <tbody>\n",
       "    <tr>\n",
       "      <th>0</th>\n",
       "      <td>17.316964</td>\n",
       "      <td>14.0</td>\n",
       "      <td>11.0</td>\n",
       "      <td>383.0</td>\n",
       "      <td>48.0</td>\n",
       "      <td>0.56</td>\n",
       "      <td>0.225806</td>\n",
       "    </tr>\n",
       "  </tbody>\n",
       "</table>\n",
       "</div>"
      ],
      "text/plain": [
       "   scale_pos_weight    tp    fp     tn    fn  precision    recall\n",
       "0         17.316964  14.0  11.0  383.0  48.0       0.56  0.225806"
      ]
     },
     "execution_count": 13,
     "metadata": {},
     "output_type": "execute_result"
    }
   ],
   "source": [
    "results"
   ]
  },
  {
   "cell_type": "code",
   "execution_count": 14,
   "metadata": {
    "colab": {
     "base_uri": "https://localhost:8080/",
     "height": 269
    },
    "id": "uiqD5Jkvd8jC",
    "outputId": "40f16caf-d7c8-48ce-eaeb-3abf11e47793",
    "scrolled": true
   },
   "outputs": [
    {
     "data": {
      "text/html": [
       "<div>\n",
       "<style scoped>\n",
       "    .dataframe tbody tr th:only-of-type {\n",
       "        vertical-align: middle;\n",
       "    }\n",
       "\n",
       "    .dataframe tbody tr th {\n",
       "        vertical-align: top;\n",
       "    }\n",
       "\n",
       "    .dataframe thead th {\n",
       "        text-align: right;\n",
       "    }\n",
       "</style>\n",
       "<table border=\"1\" class=\"dataframe\">\n",
       "  <thead>\n",
       "    <tr style=\"text-align: right;\">\n",
       "      <th></th>\n",
       "      <th>scale_pos_weight</th>\n",
       "      <th>tp</th>\n",
       "      <th>fp</th>\n",
       "      <th>tn</th>\n",
       "      <th>fn</th>\n",
       "      <th>precision</th>\n",
       "      <th>recall</th>\n",
       "    </tr>\n",
       "  </thead>\n",
       "  <tbody>\n",
       "    <tr>\n",
       "      <th>0</th>\n",
       "      <td>17.316964</td>\n",
       "      <td>14.0</td>\n",
       "      <td>11.0</td>\n",
       "      <td>383.0</td>\n",
       "      <td>48.0</td>\n",
       "      <td>0.56</td>\n",
       "      <td>0.225806</td>\n",
       "    </tr>\n",
       "    <tr>\n",
       "      <th>1</th>\n",
       "      <td>15.000000</td>\n",
       "      <td>15.0</td>\n",
       "      <td>10.0</td>\n",
       "      <td>383.0</td>\n",
       "      <td>48.0</td>\n",
       "      <td>0.60</td>\n",
       "      <td>0.238095</td>\n",
       "    </tr>\n",
       "    <tr>\n",
       "      <th>2</th>\n",
       "      <td>16.000000</td>\n",
       "      <td>14.0</td>\n",
       "      <td>11.0</td>\n",
       "      <td>390.0</td>\n",
       "      <td>41.0</td>\n",
       "      <td>0.56</td>\n",
       "      <td>0.254545</td>\n",
       "    </tr>\n",
       "    <tr>\n",
       "      <th>3</th>\n",
       "      <td>17.000000</td>\n",
       "      <td>14.0</td>\n",
       "      <td>11.0</td>\n",
       "      <td>382.0</td>\n",
       "      <td>49.0</td>\n",
       "      <td>0.56</td>\n",
       "      <td>0.222222</td>\n",
       "    </tr>\n",
       "    <tr>\n",
       "      <th>4</th>\n",
       "      <td>18.000000</td>\n",
       "      <td>15.0</td>\n",
       "      <td>10.0</td>\n",
       "      <td>379.0</td>\n",
       "      <td>52.0</td>\n",
       "      <td>0.60</td>\n",
       "      <td>0.223881</td>\n",
       "    </tr>\n",
       "    <tr>\n",
       "      <th>5</th>\n",
       "      <td>19.000000</td>\n",
       "      <td>13.0</td>\n",
       "      <td>12.0</td>\n",
       "      <td>398.0</td>\n",
       "      <td>33.0</td>\n",
       "      <td>0.52</td>\n",
       "      <td>0.282609</td>\n",
       "    </tr>\n",
       "    <tr>\n",
       "      <th>6</th>\n",
       "      <td>20.000000</td>\n",
       "      <td>14.0</td>\n",
       "      <td>11.0</td>\n",
       "      <td>406.0</td>\n",
       "      <td>25.0</td>\n",
       "      <td>0.56</td>\n",
       "      <td>0.358974</td>\n",
       "    </tr>\n",
       "    <tr>\n",
       "      <th>7</th>\n",
       "      <td>30.000000</td>\n",
       "      <td>15.0</td>\n",
       "      <td>10.0</td>\n",
       "      <td>376.0</td>\n",
       "      <td>55.0</td>\n",
       "      <td>0.60</td>\n",
       "      <td>0.214286</td>\n",
       "    </tr>\n",
       "    <tr>\n",
       "      <th>8</th>\n",
       "      <td>35.000000</td>\n",
       "      <td>15.0</td>\n",
       "      <td>10.0</td>\n",
       "      <td>388.0</td>\n",
       "      <td>43.0</td>\n",
       "      <td>0.60</td>\n",
       "      <td>0.258621</td>\n",
       "    </tr>\n",
       "    <tr>\n",
       "      <th>9</th>\n",
       "      <td>36.000000</td>\n",
       "      <td>14.0</td>\n",
       "      <td>11.0</td>\n",
       "      <td>386.0</td>\n",
       "      <td>45.0</td>\n",
       "      <td>0.56</td>\n",
       "      <td>0.237288</td>\n",
       "    </tr>\n",
       "  </tbody>\n",
       "</table>\n",
       "</div>"
      ],
      "text/plain": [
       "   scale_pos_weight    tp    fp     tn    fn  precision    recall\n",
       "0         17.316964  14.0  11.0  383.0  48.0       0.56  0.225806\n",
       "1         15.000000  15.0  10.0  383.0  48.0       0.60  0.238095\n",
       "2         16.000000  14.0  11.0  390.0  41.0       0.56  0.254545\n",
       "3         17.000000  14.0  11.0  382.0  49.0       0.56  0.222222\n",
       "4         18.000000  15.0  10.0  379.0  52.0       0.60  0.223881\n",
       "5         19.000000  13.0  12.0  398.0  33.0       0.52  0.282609\n",
       "6         20.000000  14.0  11.0  406.0  25.0       0.56  0.358974\n",
       "7         30.000000  15.0  10.0  376.0  55.0       0.60  0.214286\n",
       "8         35.000000  15.0  10.0  388.0  43.0       0.60  0.258621\n",
       "9         36.000000  14.0  11.0  386.0  45.0       0.56  0.237288"
      ]
     },
     "metadata": {},
     "output_type": "display_data"
    }
   ],
   "source": [
    "ranges = [15,16,17,18,19,20,30,35,36]\n",
    "for i in ranges:\n",
    "  useful_features = [col for col in df_train.columns if col not in ['kfold','stroke']]\n",
    "  object_cols = [col for col in df_train.select_dtypes('object').columns]\n",
    "  numeric_cols = [col for col in df_train.columns if col not in object_cols and col not in ['kfold','stroke']]\n",
    "\n",
    "\n",
    "  final_predictions = []\n",
    "  final_valids = []\n",
    "  for fold in range(10):\n",
    "    xtrain =  df_train[df_train.kfold != fold].reset_index(drop=True)\n",
    "    xvalid = df_train[df_train.kfold == fold].reset_index(drop=True)\n",
    "    xtest = X_val.copy()\n",
    "\n",
    "    ytrain = xtrain.stroke\n",
    "    yvalid = xvalid.stroke\n",
    "\n",
    "    xtrain = xtrain[useful_features]\n",
    "    xvalid = xvalid[useful_features]\n",
    "\n",
    "    ordinal_encoder = OrdinalEncoder(handle_unknown='use_encoded_value', unknown_value=-1)\n",
    "    xtrain[object_cols] = ordinal_encoder.fit_transform(xtrain[object_cols])\n",
    "    xvalid[object_cols] = ordinal_encoder.transform(xvalid[object_cols])\n",
    "    xtest[object_cols] = ordinal_encoder.transform(xtest[object_cols])\n",
    "\n",
    "    standart_scaler = StandardScaler()\n",
    "    xtrain[numeric_cols] = standart_scaler.fit_transform(xtrain[numeric_cols])\n",
    "    xvalid[numeric_cols] = standart_scaler.transform(xvalid[numeric_cols])\n",
    "    xtest[numeric_cols] = standart_scaler.transform(xtest[numeric_cols])\n",
    "\n",
    "    imputer = KNNImputer(n_neighbors=10)\n",
    "    xtrain = pd.DataFrame(imputer.fit_transform(xtrain), columns = xtrain.columns)\n",
    "    xvalid = pd.DataFrame(imputer.transform(xvalid), columns = xvalid.columns)\n",
    "    xtest = pd.DataFrame(imputer.transform(xtest), columns = xtest.columns)\n",
    "\n",
    "     \n",
    "    clf = XGBClassifier(scale_pos_weight = i, random_state = fold, eval_metric = 'logloss')\n",
    "    clf.fit(xtrain, ytrain, eval_set=[(xvalid,yvalid)],early_stopping_rounds=300,verbose=False)\n",
    "    preds_valid = clf.predict(xvalid)\n",
    "    test_preds = clf.predict(xtest)\n",
    "    final_predictions.append(test_preds)\n",
    "    \n",
    "\n",
    "  finals = np.mean(np.column_stack(final_predictions), axis=1)\n",
    "  fpr, tpr, thresholds = roc_curve(y_val,finals)\n",
    "  # calculate the g-mean for each threshold\n",
    "  gmeans = np.sqrt(tpr * (1-fpr))\n",
    "\n",
    "  # locate the index of the largest g-mean\n",
    "  ix = np.argmax(gmeans)\n",
    "\n",
    "  y_pred = [1 if x >= thresholds[ix] else 0 for x in finals]\n",
    "\n",
    "  tp, fp, tn, fn = metrics(y_val, y_pred)\n",
    "\n",
    "  results = results.append({'scale_pos_weight': i ,\n",
    "                          'tp' : tp,\n",
    "                          'fp' : fp,\n",
    "                          'tn' : tn,\n",
    "                          'fn' : fn,\n",
    "                          'precision' : (tp / (tp + fp)),\n",
    "                          'recall' : ((tp / (tp + fn)))},\n",
    "                                      ignore_index = True)\n",
    "\n",
    "display(results)"
   ]
  },
  {
   "cell_type": "code",
   "execution_count": 19,
   "metadata": {
    "colab": {
     "base_uri": "https://localhost:8080/"
    },
    "id": "lH6KgHXVOY_N",
    "outputId": "23306180-bec6-4c66-98e5-dc09705f1db5"
   },
   "outputs": [
    {
     "name": "stdout",
     "output_type": "stream",
     "text": [
      "0 0.4999999999999999 0.48\n",
      "1 0.4230769230769231 0.3793103448275862\n",
      "2 0.3902439024390244 0.4444444444444444\n",
      "3 0.5909090909090909 0.5909090909090909\n",
      "4 0.5 0.5\n",
      "5 0.2631578947368421 0.3125\n",
      "6 0.5116279069767442 0.5238095238095238\n",
      "7 0.4615384615384615 0.4\n",
      "8 0.34782608695652173 0.3333333333333333\n",
      "9 0.3684210526315789 0.4666666666666667\n"
     ]
    }
   ],
   "source": [
    "\n",
    "useful_features = [col for col in df_train.columns if col not in ['kfold','stroke']]\n",
    "object_cols = [col for col in df_train.select_dtypes('object').columns]\n",
    "numeric_cols = [col for col in df_train.columns if col not in object_cols and col not in ['kfold','stroke']]\n",
    "\n",
    "weight = len(df_train) / (df_train.stroke.nunique() * np.bincount(df_train.stroke.values))\n",
    "spw = weight[1] / weight[0]\n",
    "\n",
    "final_predictions = []\n",
    "for fold in range(10):\n",
    "  xtrain =  df_train[df_train.kfold != fold].reset_index(drop=True)\n",
    "  xvalid = df_train[df_train.kfold == fold].reset_index(drop=True)\n",
    "  xtest = X_val.copy()\n",
    "\n",
    "  ytrain = xtrain.stroke\n",
    "  yvalid = xvalid.stroke\n",
    "\n",
    "  xtrain = xtrain[useful_features]\n",
    "  xvalid = xvalid[useful_features]\n",
    "\n",
    "  ordinal_encoder = OrdinalEncoder(handle_unknown='use_encoded_value', unknown_value=-1)\n",
    "  xtrain[object_cols] = ordinal_encoder.fit_transform(xtrain[object_cols])\n",
    "  xvalid[object_cols] = ordinal_encoder.transform(xvalid[object_cols])\n",
    "  xtest[object_cols] = ordinal_encoder.transform(xtest[object_cols])\n",
    "\n",
    "  standart_scaler = StandardScaler()\n",
    "  xtrain[numeric_cols] = standart_scaler.fit_transform(xtrain[numeric_cols])\n",
    "  xvalid[numeric_cols] = standart_scaler.transform(xvalid[numeric_cols])\n",
    "  xtest[numeric_cols] = standart_scaler.transform(xtest[numeric_cols])\n",
    "\n",
    "  imputer = KNNImputer(n_neighbors=10)\n",
    "  xtrain = pd.DataFrame(imputer.fit_transform(xtrain), columns = xtrain.columns)\n",
    "  xvalid = pd.DataFrame(imputer.transform(xvalid), columns = xvalid.columns)\n",
    "  xtest = pd.DataFrame(imputer.transform(xtest), columns = xtest.columns)\n",
    "\n",
    "  clf = XGBClassifier(random_state=fold, n_jobs=4, scale_pos_weight = 35, eval_metric = 'logloss')\n",
    "  clf.fit(xtrain, ytrain, eval_set=[(xvalid,yvalid)],early_stopping_rounds=300,verbose=False)\n",
    "  preds_valid = clf.predict(xvalid)\n",
    "  test_preds = clf.predict(xtest)\n",
    "  final_predictions.append(test_preds)\n",
    "  print(fold, f1_score(yvalid, preds_valid), precision_score(yvalid,preds_valid))\n",
    "\n",
    "\n",
    "finals = np.mean(np.column_stack(final_predictions), axis=1)\n",
    "fpr, tpr, thresholds = roc_curve(y_val,finals)\n",
    "# calculate the g-mean for each threshold\n",
    "gmeans = np.sqrt(tpr * (1-fpr))\n",
    "\n",
    "# locate the index of the largest g-mean\n",
    "ix = np.argmax(gmeans)\n",
    "\n",
    "y_pred = [1 if x >= thresholds[ix] else 0 for x in finals]\n",
    "\n",
    "tp, fp, tn, fn = metrics(y_val, y_pred)"
   ]
  },
  {
   "cell_type": "code",
   "execution_count": 20,
   "metadata": {
    "id": "JBtIU2Y-Rxqm"
   },
   "outputs": [],
   "source": [
    "#save the model\n",
    "clf.save_model('xgb_model.json')\n"
   ]
  },
  {
   "cell_type": "code",
   "execution_count": 17,
   "metadata": {
    "colab": {
     "base_uri": "https://localhost:8080/"
    },
    "id": "BKpEV9cGVcbz",
    "outputId": "e40e92b2-2f9d-4afc-b1b0-4ee4f23daa82"
   },
   "outputs": [
    {
     "data": {
      "text/plain": [
       "\"import joblib\\njoblib.dump(ordinal_encoder, 'ordinal_encoder.gz')\\njoblib.dump(standart_scaler, 'standard_scaler.gz')\\njoblib.dump(imputer, 'knn_imputer.gz')\""
      ]
     },
     "execution_count": 17,
     "metadata": {},
     "output_type": "execute_result"
    }
   ],
   "source": [
    "# save scalers\n",
    "import joblib\n",
    "joblib.dump(ordinal_encoder, 'ordinal_encoder.gz')\n",
    "joblib.dump(standart_scaler, 'standard_scaler.gz')\n",
    "joblib.dump(imputer, 'knn_imputer.gz')"
   ]
  },
  {
   "cell_type": "code",
   "execution_count": null,
   "metadata": {
    "id": "LJSlXlcFyHzT"
   },
   "outputs": [],
   "source": []
  }
 ],
 "metadata": {
  "accelerator": "GPU",
  "colab": {
   "collapsed_sections": [
    "yOGkEvuJRZgD",
    "-nhTJWFmRZgD",
    "kyQ8pRvHRZgD"
   ],
   "provenance": []
  },
  "gpuClass": "standard",
  "interpreter": {
   "hash": "dca0ade3e726a953b501b15e8e990130d2b7799f14cfd9f4271676035ebe5511"
  },
  "kernelspec": {
   "display_name": "Python 3 (ipykernel)",
   "language": "python",
   "name": "python3"
  },
  "language_info": {
   "codemirror_mode": {
    "name": "ipython",
    "version": 3
   },
   "file_extension": ".py",
   "mimetype": "text/x-python",
   "name": "python",
   "nbconvert_exporter": "python",
   "pygments_lexer": "ipython3",
   "version": "3.9.7"
  }
 },
 "nbformat": 4,
 "nbformat_minor": 1
}
